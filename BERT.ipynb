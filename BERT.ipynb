{
 "cells": [
  {
   "cell_type": "markdown",
   "id": "cb2d2718",
   "metadata": {},
   "source": [
    "# BERT\n",
    "Use BERT Model with pretrained BERT tokenizer from huggingface."
   ]
  },
  {
   "cell_type": "markdown",
   "id": "3c5d71c7",
   "metadata": {
    "vscode": {
     "languageId": "plaintext"
    }
   },
   "source": [
    "## Import Packages and Environment Variables"
   ]
  },
  {
   "cell_type": "code",
   "execution_count": 1,
   "id": "4df7fd8a",
   "metadata": {},
   "outputs": [],
   "source": [
    "import collections\n",
    "import pandas as pd\n",
    "import matplotlib.pyplot as plt\n",
    "import numpy as np\n",
    "import torch\n",
    "import torch.nn as nn\n",
    "import torch.optim as optim\n",
    "from torch.utils.data import Dataset, DataLoader\n",
    "# import torchtext\n",
    "import tqdm.auto as tqdm\n",
    "import transformers\n",
    "from sklearn.model_selection import train_test_split\n",
    "import os"
   ]
  },
  {
   "cell_type": "code",
   "execution_count": 2,
   "id": "a27740a1",
   "metadata": {},
   "outputs": [],
   "source": [
    "DATA_PATH = \"data/\"\n",
    "DIR_PATH = os.getcwd()\n",
    "TRAIN_DATA_PATH = os.path.join(DIR_PATH, DATA_PATH, \"train.csv\")\n",
    "TEST_DATA_PATH = os.path.join(DIR_PATH, DATA_PATH, \"test.csv\")\n",
    "\n",
    "VALIDATION_RATIO = 0.2\n",
    "SEED = 1234\n",
    "\n",
    "REMOVE_DUPLICATE = True\n",
    "TOCKENIZER_NAME = 'bert-base-uncased'\n",
    "BATCH_SIZE = 8"
   ]
  },
  {
   "cell_type": "code",
   "execution_count": 3,
   "id": "15323f44",
   "metadata": {},
   "outputs": [
    {
     "name": "stdout",
     "output_type": "stream",
     "text": [
      "Using device: cuda:0\n"
     ]
    }
   ],
   "source": [
    "if torch.cuda.is_available():\n",
    "    DEVICE = torch.device(\"cuda:0\")\n",
    "else:\n",
    "    DEVICE = torch.device(\"cpu\")\n",
    "print(f\"Using device: {DEVICE}\")"
   ]
  },
  {
   "cell_type": "code",
   "execution_count": 4,
   "id": "07a5ba2f",
   "metadata": {},
   "outputs": [],
   "source": [
    "np.random.seed(SEED)\n",
    "torch.manual_seed(SEED)\n",
    "torch.cuda.manual_seed(SEED)\n",
    "torch.backends.cudnn.deterministic = True"
   ]
  },
  {
   "cell_type": "code",
   "execution_count": 5,
   "id": "418b216f",
   "metadata": {},
   "outputs": [],
   "source": [
    "tqdm.tqdm.pandas()# enable progress_apply and progress_mapfor pandas"
   ]
  },
  {
   "cell_type": "markdown",
   "id": "f4ba8534",
   "metadata": {},
   "source": [
    "## Data Preprocessed and Feature Engineering"
   ]
  },
  {
   "cell_type": "code",
   "execution_count": 6,
   "id": "1cdd5eaf",
   "metadata": {},
   "outputs": [
    {
     "data": {
      "text/html": [
       "<div>\n",
       "<style scoped>\n",
       "    .dataframe tbody tr th:only-of-type {\n",
       "        vertical-align: middle;\n",
       "    }\n",
       "\n",
       "    .dataframe tbody tr th {\n",
       "        vertical-align: top;\n",
       "    }\n",
       "\n",
       "    .dataframe thead th {\n",
       "        text-align: right;\n",
       "    }\n",
       "</style>\n",
       "<table border=\"1\" class=\"dataframe\">\n",
       "  <thead>\n",
       "    <tr style=\"text-align: right;\">\n",
       "      <th></th>\n",
       "      <th>review</th>\n",
       "      <th>sentiment</th>\n",
       "    </tr>\n",
       "  </thead>\n",
       "  <tbody>\n",
       "    <tr>\n",
       "      <th>0</th>\n",
       "      <td>the single worst film i've ever seen in a thea...</td>\n",
       "      <td>negative</td>\n",
       "    </tr>\n",
       "    <tr>\n",
       "      <th>1</th>\n",
       "      <td>I was actually around 13 years old camping nea...</td>\n",
       "      <td>positive</td>\n",
       "    </tr>\n",
       "    <tr>\n",
       "      <th>2</th>\n",
       "      <td>A small town is attacked by a horde of bloodth...</td>\n",
       "      <td>negative</td>\n",
       "    </tr>\n",
       "    <tr>\n",
       "      <th>3</th>\n",
       "      <td>I think the problem with this show not getting...</td>\n",
       "      <td>positive</td>\n",
       "    </tr>\n",
       "    <tr>\n",
       "      <th>4</th>\n",
       "      <td>Wow, this movie was horrible. As a Bills fan I...</td>\n",
       "      <td>negative</td>\n",
       "    </tr>\n",
       "  </tbody>\n",
       "</table>\n",
       "</div>"
      ],
      "text/plain": [
       "                                              review sentiment\n",
       "0  the single worst film i've ever seen in a thea...  negative\n",
       "1  I was actually around 13 years old camping nea...  positive\n",
       "2  A small town is attacked by a horde of bloodth...  negative\n",
       "3  I think the problem with this show not getting...  positive\n",
       "4  Wow, this movie was horrible. As a Bills fan I...  negative"
      ]
     },
     "execution_count": 6,
     "metadata": {},
     "output_type": "execute_result"
    }
   ],
   "source": [
    "train = pd.read_csv(TRAIN_DATA_PATH)\n",
    "test = pd.read_csv(TEST_DATA_PATH)\n",
    "train.head()"
   ]
  },
  {
   "cell_type": "code",
   "execution_count": 7,
   "id": "f571c358",
   "metadata": {},
   "outputs": [
    {
     "data": {
      "text/html": [
       "<div>\n",
       "<style scoped>\n",
       "    .dataframe tbody tr th:only-of-type {\n",
       "        vertical-align: middle;\n",
       "    }\n",
       "\n",
       "    .dataframe tbody tr th {\n",
       "        vertical-align: top;\n",
       "    }\n",
       "\n",
       "    .dataframe thead th {\n",
       "        text-align: right;\n",
       "    }\n",
       "</style>\n",
       "<table border=\"1\" class=\"dataframe\">\n",
       "  <thead>\n",
       "    <tr style=\"text-align: right;\">\n",
       "      <th></th>\n",
       "      <th>id</th>\n",
       "      <th>review</th>\n",
       "    </tr>\n",
       "  </thead>\n",
       "  <tbody>\n",
       "    <tr>\n",
       "      <th>0</th>\n",
       "      <td>0</td>\n",
       "      <td>An expedition party made up of constantly bick...</td>\n",
       "    </tr>\n",
       "    <tr>\n",
       "      <th>1</th>\n",
       "      <td>1</td>\n",
       "      <td>Well, I'll be honest: It is not exactly a Shol...</td>\n",
       "    </tr>\n",
       "    <tr>\n",
       "      <th>2</th>\n",
       "      <td>2</td>\n",
       "      <td>This is not a boring movie, the audience might...</td>\n",
       "    </tr>\n",
       "    <tr>\n",
       "      <th>3</th>\n",
       "      <td>3</td>\n",
       "      <td>My boyfriend and I decided to go see this movi...</td>\n",
       "    </tr>\n",
       "    <tr>\n",
       "      <th>4</th>\n",
       "      <td>4</td>\n",
       "      <td>It's a shame this movie is rated PG 13--it is ...</td>\n",
       "    </tr>\n",
       "  </tbody>\n",
       "</table>\n",
       "</div>"
      ],
      "text/plain": [
       "   id                                             review\n",
       "0   0  An expedition party made up of constantly bick...\n",
       "1   1  Well, I'll be honest: It is not exactly a Shol...\n",
       "2   2  This is not a boring movie, the audience might...\n",
       "3   3  My boyfriend and I decided to go see this movi...\n",
       "4   4  It's a shame this movie is rated PG 13--it is ..."
      ]
     },
     "execution_count": 7,
     "metadata": {},
     "output_type": "execute_result"
    }
   ],
   "source": [
    "test.head()"
   ]
  },
  {
   "cell_type": "code",
   "execution_count": 8,
   "id": "8b9f255c",
   "metadata": {},
   "outputs": [
    {
     "name": "stdout",
     "output_type": "stream",
     "text": [
      "328\n"
     ]
    }
   ],
   "source": [
    "# Remove Duplicated Data\n",
    "if REMOVE_DUPLICATE:\n",
    "    print(train.duplicated(subset=[\"review\"]).sum())\n",
    "    train.drop_duplicates(subset=[\"review\"], inplace=True)\n",
    "    train = train.reset_index(drop=True)"
   ]
  },
  {
   "cell_type": "code",
   "execution_count": 9,
   "id": "8d9585ea",
   "metadata": {},
   "outputs": [
    {
     "data": {
      "application/vnd.jupyter.widget-view+json": {
       "model_id": "4e892cdf584341d8997163dc80186f93",
       "version_major": 2,
       "version_minor": 0
      },
      "text/plain": [
       "  0%|          | 0/39672 [00:00<?, ?it/s]"
      ]
     },
     "metadata": {},
     "output_type": "display_data"
    },
    {
     "data": {
      "text/html": [
       "<div>\n",
       "<style scoped>\n",
       "    .dataframe tbody tr th:only-of-type {\n",
       "        vertical-align: middle;\n",
       "    }\n",
       "\n",
       "    .dataframe tbody tr th {\n",
       "        vertical-align: top;\n",
       "    }\n",
       "\n",
       "    .dataframe thead th {\n",
       "        text-align: right;\n",
       "    }\n",
       "</style>\n",
       "<table border=\"1\" class=\"dataframe\">\n",
       "  <thead>\n",
       "    <tr style=\"text-align: right;\">\n",
       "      <th></th>\n",
       "      <th>review</th>\n",
       "      <th>sentiment</th>\n",
       "    </tr>\n",
       "  </thead>\n",
       "  <tbody>\n",
       "    <tr>\n",
       "      <th>0</th>\n",
       "      <td>the single worst film i've ever seen in a thea...</td>\n",
       "      <td>0</td>\n",
       "    </tr>\n",
       "    <tr>\n",
       "      <th>1</th>\n",
       "      <td>I was actually around 13 years old camping nea...</td>\n",
       "      <td>1</td>\n",
       "    </tr>\n",
       "    <tr>\n",
       "      <th>2</th>\n",
       "      <td>A small town is attacked by a horde of bloodth...</td>\n",
       "      <td>0</td>\n",
       "    </tr>\n",
       "    <tr>\n",
       "      <th>3</th>\n",
       "      <td>I think the problem with this show not getting...</td>\n",
       "      <td>1</td>\n",
       "    </tr>\n",
       "    <tr>\n",
       "      <th>4</th>\n",
       "      <td>Wow, this movie was horrible. As a Bills fan I...</td>\n",
       "      <td>0</td>\n",
       "    </tr>\n",
       "  </tbody>\n",
       "</table>\n",
       "</div>"
      ],
      "text/plain": [
       "                                              review  sentiment\n",
       "0  the single worst film i've ever seen in a thea...          0\n",
       "1  I was actually around 13 years old camping nea...          1\n",
       "2  A small town is attacked by a horde of bloodth...          0\n",
       "3  I think the problem with this show not getting...          1\n",
       "4  Wow, this movie was horrible. As a Bills fan I...          0"
      ]
     },
     "execution_count": 9,
     "metadata": {},
     "output_type": "execute_result"
    }
   ],
   "source": [
    "train[\"sentiment\"] = train[\"sentiment\"].progress_map(\n",
    "    lambda x:1 if x == \"positive\" else 0\n",
    "    )\n",
    "train.head()"
   ]
  },
  {
   "cell_type": "code",
   "execution_count": 10,
   "id": "6b4174ca",
   "metadata": {},
   "outputs": [],
   "source": [
    "# Tockenizer\n",
    "tokenizer = transformers.BertTokenizer.from_pretrained(TOCKENIZER_NAME)\n",
    "\n",
    "def tokenize_function(examples, tokenizer):\n",
    "    return tokenizer(examples, truncation=True)[\"input_ids\"] "
   ]
  },
  {
   "cell_type": "code",
   "execution_count": 11,
   "id": "95d264f4",
   "metadata": {},
   "outputs": [
    {
     "data": {
      "application/vnd.jupyter.widget-view+json": {
       "model_id": "4700c8c8a6fa45c3814b2751c62217ad",
       "version_major": 2,
       "version_minor": 0
      },
      "text/plain": [
       "  0%|          | 0/39672 [00:00<?, ?it/s]"
      ]
     },
     "metadata": {},
     "output_type": "display_data"
    },
    {
     "data": {
      "application/vnd.jupyter.widget-view+json": {
       "model_id": "2c9bd0b1ac8d4b1b8bddb257d46ed983",
       "version_major": 2,
       "version_minor": 0
      },
      "text/plain": [
       "  0%|          | 0/10000 [00:00<?, ?it/s]"
      ]
     },
     "metadata": {},
     "output_type": "display_data"
    }
   ],
   "source": [
    "train[\"input_ids\"] = train[\"review\"].progress_map(lambda x :tokenize_function(x, tokenizer=tokenizer))\n",
    "test[\"input_ids\"] = test[\"review\"].progress_map(lambda x :tokenize_function(x, tokenizer=tokenizer))    "
   ]
  },
  {
   "cell_type": "code",
   "execution_count": 12,
   "id": "7c091442",
   "metadata": {},
   "outputs": [
    {
     "data": {
      "text/html": [
       "<div>\n",
       "<style scoped>\n",
       "    .dataframe tbody tr th:only-of-type {\n",
       "        vertical-align: middle;\n",
       "    }\n",
       "\n",
       "    .dataframe tbody tr th {\n",
       "        vertical-align: top;\n",
       "    }\n",
       "\n",
       "    .dataframe thead th {\n",
       "        text-align: right;\n",
       "    }\n",
       "</style>\n",
       "<table border=\"1\" class=\"dataframe\">\n",
       "  <thead>\n",
       "    <tr style=\"text-align: right;\">\n",
       "      <th></th>\n",
       "      <th>review</th>\n",
       "      <th>sentiment</th>\n",
       "      <th>input_ids</th>\n",
       "    </tr>\n",
       "  </thead>\n",
       "  <tbody>\n",
       "    <tr>\n",
       "      <th>0</th>\n",
       "      <td>the single worst film i've ever seen in a thea...</td>\n",
       "      <td>0</td>\n",
       "      <td>[101, 1996, 2309, 5409, 2143, 1045, 1005, 2310...</td>\n",
       "    </tr>\n",
       "    <tr>\n",
       "      <th>1</th>\n",
       "      <td>I was actually around 13 years old camping nea...</td>\n",
       "      <td>1</td>\n",
       "      <td>[101, 1045, 2001, 2941, 2105, 2410, 2086, 2214...</td>\n",
       "    </tr>\n",
       "    <tr>\n",
       "      <th>2</th>\n",
       "      <td>A small town is attacked by a horde of bloodth...</td>\n",
       "      <td>0</td>\n",
       "      <td>[101, 1037, 2235, 2237, 2003, 4457, 2011, 1037...</td>\n",
       "    </tr>\n",
       "    <tr>\n",
       "      <th>3</th>\n",
       "      <td>I think the problem with this show not getting...</td>\n",
       "      <td>1</td>\n",
       "      <td>[101, 1045, 2228, 1996, 3291, 2007, 2023, 2265...</td>\n",
       "    </tr>\n",
       "    <tr>\n",
       "      <th>4</th>\n",
       "      <td>Wow, this movie was horrible. As a Bills fan I...</td>\n",
       "      <td>0</td>\n",
       "      <td>[101, 10166, 1010, 2023, 3185, 2001, 9202, 101...</td>\n",
       "    </tr>\n",
       "  </tbody>\n",
       "</table>\n",
       "</div>"
      ],
      "text/plain": [
       "                                              review  sentiment  \\\n",
       "0  the single worst film i've ever seen in a thea...          0   \n",
       "1  I was actually around 13 years old camping nea...          1   \n",
       "2  A small town is attacked by a horde of bloodth...          0   \n",
       "3  I think the problem with this show not getting...          1   \n",
       "4  Wow, this movie was horrible. As a Bills fan I...          0   \n",
       "\n",
       "                                           input_ids  \n",
       "0  [101, 1996, 2309, 5409, 2143, 1045, 1005, 2310...  \n",
       "1  [101, 1045, 2001, 2941, 2105, 2410, 2086, 2214...  \n",
       "2  [101, 1037, 2235, 2237, 2003, 4457, 2011, 1037...  \n",
       "3  [101, 1045, 2228, 1996, 3291, 2007, 2023, 2265...  \n",
       "4  [101, 10166, 1010, 2023, 3185, 2001, 9202, 101...  "
      ]
     },
     "execution_count": 12,
     "metadata": {},
     "output_type": "execute_result"
    }
   ],
   "source": [
    "train.head()"
   ]
  },
  {
   "cell_type": "code",
   "execution_count": 13,
   "id": "65186280",
   "metadata": {},
   "outputs": [
    {
     "data": {
      "text/html": [
       "<div>\n",
       "<style scoped>\n",
       "    .dataframe tbody tr th:only-of-type {\n",
       "        vertical-align: middle;\n",
       "    }\n",
       "\n",
       "    .dataframe tbody tr th {\n",
       "        vertical-align: top;\n",
       "    }\n",
       "\n",
       "    .dataframe thead th {\n",
       "        text-align: right;\n",
       "    }\n",
       "</style>\n",
       "<table border=\"1\" class=\"dataframe\">\n",
       "  <thead>\n",
       "    <tr style=\"text-align: right;\">\n",
       "      <th></th>\n",
       "      <th>id</th>\n",
       "      <th>review</th>\n",
       "      <th>input_ids</th>\n",
       "    </tr>\n",
       "  </thead>\n",
       "  <tbody>\n",
       "    <tr>\n",
       "      <th>0</th>\n",
       "      <td>0</td>\n",
       "      <td>An expedition party made up of constantly bick...</td>\n",
       "      <td>[101, 2019, 5590, 2283, 2081, 2039, 1997, 7887...</td>\n",
       "    </tr>\n",
       "    <tr>\n",
       "      <th>1</th>\n",
       "      <td>1</td>\n",
       "      <td>Well, I'll be honest: It is not exactly a Shol...</td>\n",
       "      <td>[101, 2092, 1010, 1045, 1005, 2222, 2022, 7481...</td>\n",
       "    </tr>\n",
       "    <tr>\n",
       "      <th>2</th>\n",
       "      <td>2</td>\n",
       "      <td>This is not a boring movie, the audience might...</td>\n",
       "      <td>[101, 2023, 2003, 2025, 1037, 11771, 3185, 101...</td>\n",
       "    </tr>\n",
       "    <tr>\n",
       "      <th>3</th>\n",
       "      <td>3</td>\n",
       "      <td>My boyfriend and I decided to go see this movi...</td>\n",
       "      <td>[101, 2026, 6898, 1998, 1045, 2787, 2000, 2175...</td>\n",
       "    </tr>\n",
       "    <tr>\n",
       "      <th>4</th>\n",
       "      <td>4</td>\n",
       "      <td>It's a shame this movie is rated PG 13--it is ...</td>\n",
       "      <td>[101, 2009, 1005, 1055, 1037, 9467, 2023, 3185...</td>\n",
       "    </tr>\n",
       "  </tbody>\n",
       "</table>\n",
       "</div>"
      ],
      "text/plain": [
       "   id                                             review  \\\n",
       "0   0  An expedition party made up of constantly bick...   \n",
       "1   1  Well, I'll be honest: It is not exactly a Shol...   \n",
       "2   2  This is not a boring movie, the audience might...   \n",
       "3   3  My boyfriend and I decided to go see this movi...   \n",
       "4   4  It's a shame this movie is rated PG 13--it is ...   \n",
       "\n",
       "                                           input_ids  \n",
       "0  [101, 2019, 5590, 2283, 2081, 2039, 1997, 7887...  \n",
       "1  [101, 2092, 1010, 1045, 1005, 2222, 2022, 7481...  \n",
       "2  [101, 2023, 2003, 2025, 1037, 11771, 3185, 101...  \n",
       "3  [101, 2026, 6898, 1998, 1045, 2787, 2000, 2175...  \n",
       "4  [101, 2009, 1005, 1055, 1037, 9467, 2023, 3185...  "
      ]
     },
     "execution_count": 13,
     "metadata": {},
     "output_type": "execute_result"
    }
   ],
   "source": [
    "test.head()"
   ]
  },
  {
   "cell_type": "code",
   "execution_count": 14,
   "id": "4bf79a34",
   "metadata": {},
   "outputs": [
    {
     "data": {
      "text/plain": [
       "'[PAD]'"
      ]
     },
     "execution_count": 14,
     "metadata": {},
     "output_type": "execute_result"
    }
   ],
   "source": [
    "tokenizer.pad_token # Padding token"
   ]
  },
  {
   "cell_type": "code",
   "execution_count": 15,
   "id": "a63d8213",
   "metadata": {},
   "outputs": [
    {
     "data": {
      "text/plain": [
       "0"
      ]
     },
     "execution_count": 15,
     "metadata": {},
     "output_type": "execute_result"
    }
   ],
   "source": [
    "tokenizer.pad_token_id # Padding token id"
   ]
  },
  {
   "cell_type": "code",
   "execution_count": 16,
   "id": "1543cb7b",
   "metadata": {},
   "outputs": [],
   "source": [
    "# Use this index as padding value\n",
    "pad_index = tokenizer.pad_token_id "
   ]
  },
  {
   "cell_type": "markdown",
   "id": "e887d274",
   "metadata": {},
   "source": [
    "### Split trainning  set and validation set"
   ]
  },
  {
   "cell_type": "code",
   "execution_count": 17,
   "id": "0c53bed3",
   "metadata": {},
   "outputs": [],
   "source": [
    "train_data, valid_data = train_test_split(train, \n",
    "                                          test_size=VALIDATION_RATIO,\n",
    "                                          random_state=SEED)\n",
    "train_data.reset_index(drop=True, inplace=True)\n",
    "valid_data.reset_index(drop=True, inplace=True)"
   ]
  },
  {
   "cell_type": "code",
   "execution_count": 18,
   "id": "9496cc0d",
   "metadata": {},
   "outputs": [
    {
     "data": {
      "text/plain": [
       "(95211, 23805)"
      ]
     },
     "execution_count": 18,
     "metadata": {},
     "output_type": "execute_result"
    }
   ],
   "source": [
    "train_data.size, valid_data.size"
   ]
  },
  {
   "cell_type": "code",
   "execution_count": 19,
   "id": "c114af4a",
   "metadata": {},
   "outputs": [
    {
     "data": {
      "text/html": [
       "<div>\n",
       "<style scoped>\n",
       "    .dataframe tbody tr th:only-of-type {\n",
       "        vertical-align: middle;\n",
       "    }\n",
       "\n",
       "    .dataframe tbody tr th {\n",
       "        vertical-align: top;\n",
       "    }\n",
       "\n",
       "    .dataframe thead th {\n",
       "        text-align: right;\n",
       "    }\n",
       "</style>\n",
       "<table border=\"1\" class=\"dataframe\">\n",
       "  <thead>\n",
       "    <tr style=\"text-align: right;\">\n",
       "      <th></th>\n",
       "      <th>review</th>\n",
       "      <th>sentiment</th>\n",
       "      <th>input_ids</th>\n",
       "    </tr>\n",
       "  </thead>\n",
       "  <tbody>\n",
       "    <tr>\n",
       "      <th>0</th>\n",
       "      <td>The evil bikie gang in this movie were called ...</td>\n",
       "      <td>0</td>\n",
       "      <td>[101, 1996, 4763, 12170, 11602, 6080, 1999, 20...</td>\n",
       "    </tr>\n",
       "    <tr>\n",
       "      <th>1</th>\n",
       "      <td>This movie was excellent for the following rea...</td>\n",
       "      <td>1</td>\n",
       "      <td>[101, 2023, 3185, 2001, 6581, 2005, 1996, 2206...</td>\n",
       "    </tr>\n",
       "    <tr>\n",
       "      <th>2</th>\n",
       "      <td>If there's one thing I've learnt from watching...</td>\n",
       "      <td>0</td>\n",
       "      <td>[101, 2065, 2045, 1005, 1055, 2028, 2518, 1045...</td>\n",
       "    </tr>\n",
       "    <tr>\n",
       "      <th>3</th>\n",
       "      <td>This movie tries to be more than it is. First ...</td>\n",
       "      <td>0</td>\n",
       "      <td>[101, 2023, 3185, 5363, 2000, 2022, 2062, 2084...</td>\n",
       "    </tr>\n",
       "    <tr>\n",
       "      <th>4</th>\n",
       "      <td>I understand this film to be a debut feature a...</td>\n",
       "      <td>1</td>\n",
       "      <td>[101, 1045, 3305, 2023, 2143, 2000, 2022, 1037...</td>\n",
       "    </tr>\n",
       "  </tbody>\n",
       "</table>\n",
       "</div>"
      ],
      "text/plain": [
       "                                              review  sentiment  \\\n",
       "0  The evil bikie gang in this movie were called ...          0   \n",
       "1  This movie was excellent for the following rea...          1   \n",
       "2  If there's one thing I've learnt from watching...          0   \n",
       "3  This movie tries to be more than it is. First ...          0   \n",
       "4  I understand this film to be a debut feature a...          1   \n",
       "\n",
       "                                           input_ids  \n",
       "0  [101, 1996, 4763, 12170, 11602, 6080, 1999, 20...  \n",
       "1  [101, 2023, 3185, 2001, 6581, 2005, 1996, 2206...  \n",
       "2  [101, 2065, 2045, 1005, 1055, 2028, 2518, 1045...  \n",
       "3  [101, 2023, 3185, 5363, 2000, 2022, 2062, 2084...  \n",
       "4  [101, 1045, 3305, 2023, 2143, 2000, 2022, 1037...  "
      ]
     },
     "execution_count": 19,
     "metadata": {},
     "output_type": "execute_result"
    }
   ],
   "source": [
    "train_data.head()"
   ]
  },
  {
   "cell_type": "markdown",
   "id": "f6a48a76",
   "metadata": {},
   "source": [
    "## Dataset & DataLoader"
   ]
  },
  {
   "cell_type": "code",
   "execution_count": 20,
   "id": "831a4ef5",
   "metadata": {},
   "outputs": [],
   "source": [
    "class dataset(Dataset):\n",
    "    \"\"\"\n",
    "    Custom dataset\n",
    "    Args:\n",
    "        data (pd.DataFrame): DataFrame containing 'input_ids' and 'sentiment' columns.\n",
    "    \"\"\"\n",
    "    def __init__(self, data:pd.DataFrame):\n",
    "        super().__init__()\n",
    "        self.ids = data[\"input_ids\"].to_list()\n",
    "        self.labels = data[\"sentiment\"].to_list()\n",
    "    \n",
    "    def __len__(self):\n",
    "        return len(self.ids)\n",
    "    \n",
    "    def __getitem__(self, ind):\n",
    "        ids_tensor = torch.tensor(self.ids[ind], dtype=torch.int64)\n",
    "\n",
    "        labels_tensor = torch.tensor(self.label[ind], dtype=torch.int64)\n",
    "        return ids_tensor, labels_tensor"
   ]
  },
  {
   "cell_type": "markdown",
   "id": "6b625f7c",
   "metadata": {},
   "source": [
    "### Make custon collate function for padding\n",
    "Since the review length is different, we need to pad the input_ids to the same length in a batch."
   ]
  },
  {
   "cell_type": "code",
   "execution_count": 21,
   "id": "8f342b29",
   "metadata": {},
   "outputs": [],
   "source": [
    "def get_collate_fn(pad_index):\n",
    "    def collate_fn(batch):\n",
    "        batch_ids = [i.ids for i in batch]\n",
    "        batch_ids = nn.utils.rnn.pad_sequence(\n",
    "            batch_ids, padding_value=pad_index, batch_first=True\n",
    "        )\n",
    "        batch_label = [i.label for i in batch]\n",
    "        batch_label = torch.stack(batch_label)\n",
    "        batch = {\"ids\": batch_ids, \"label\": batch_label}\n",
    "        return batch\n",
    "\n",
    "    return collate_fn"
   ]
  },
  {
   "cell_type": "markdown",
   "id": "8ce83b1a",
   "metadata": {},
   "source": [
    "### Create DataLoader"
   ]
  },
  {
   "cell_type": "code",
   "execution_count": 22,
   "id": "e69687cb",
   "metadata": {},
   "outputs": [],
   "source": [
    "def get_data_loader(dataset, batch_size, pad_index, shuffle=True):\n",
    "    collate_fn = get_collate_fn(pad_index)\n",
    "    data_loader = DataLoader(\n",
    "        dataset,\n",
    "        batch_size=batch_size,\n",
    "        shuffle=shuffle,\n",
    "        collate_fn=collate_fn\n",
    "    )\n",
    "    return data_loader"
   ]
  },
  {
   "cell_type": "code",
   "execution_count": 25,
   "id": "cc338c15",
   "metadata": {},
   "outputs": [],
   "source": [
    "train_dataset = dataset(train_data)\n",
    "valid_dataset = dataset(valid_data)\n",
    "\n",
    "train_loader = get_data_loader(train_dataset, BATCH_SIZE, \n",
    "                               pad_index, shuffle=True)\n",
    "valid_loader = get_data_loader(valid_dataset, BATCH_SIZE, \n",
    "                               pad_index, shuffle=False) \n"
   ]
  },
  {
   "cell_type": "code",
   "execution_count": null,
   "id": "052a312b",
   "metadata": {},
   "outputs": [],
   "source": []
  }
 ],
 "metadata": {
  "kernelspec": {
   "display_name": "sentimen_analysis",
   "language": "python",
   "name": "python3"
  },
  "language_info": {
   "codemirror_mode": {
    "name": "ipython",
    "version": 3
   },
   "file_extension": ".py",
   "mimetype": "text/x-python",
   "name": "python",
   "nbconvert_exporter": "python",
   "pygments_lexer": "ipython3",
   "version": "3.9.23"
  }
 },
 "nbformat": 4,
 "nbformat_minor": 5
}
